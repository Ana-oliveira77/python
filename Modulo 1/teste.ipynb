{
 "cells": [
  {
   "cell_type": "code",
   "execution_count": null,
   "id": "9d8485ff",
   "metadata": {},
   "outputs": [],
   "source": [
    "# Exemplo 01\n",
    "print(\"Meu primeiro código\")\n",
    "\n",
    "# Exemplo 02\n",
    "x = 10\n",
    "y = 5\n",
    "print(x + 1)\n",
    "print(y - 2)\n",
    "print(y * x)\n",
    "print(x / y)\n",
    "\n",
    "# Exemplo 03 (com erro de digitação proposital)\n",
    "print(\"Ola\")\n"
   ]
  }
 ],
 "metadata": {
  "language_info": {
   "name": "python"
  }
 },
 "nbformat": 4,
 "nbformat_minor": 5
}
